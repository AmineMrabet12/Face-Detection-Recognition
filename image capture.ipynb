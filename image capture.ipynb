{
 "cells": [
  {
   "cell_type": "markdown",
   "id": "2cf2743c",
   "metadata": {},
   "source": [
    "# 1.Setup"
   ]
  },
  {
   "cell_type": "markdown",
   "id": "b75ad764",
   "metadata": {},
   "source": [
    "### 1.1 Import"
   ]
  },
  {
   "cell_type": "code",
   "execution_count": 1,
   "id": "363aafcf",
   "metadata": {},
   "outputs": [],
   "source": [
    "#-------------------------------------------import-------------------------------------------\n",
    "import cv2\n",
    "import os\n",
    "import random\n",
    "import numpy as np\n",
    "from matplotlib import pyplot as plt\n",
    "\n",
    "#import tensorflow dependencies (API)\n",
    "from tensorflow.keras.models import Model\n",
    "from tensorflow.keras.layers import Layer, Dense, Conv2D, MaxPooling2D, Input, Flatten\n",
    "import tensorflow as tf\n",
    "\n",
    "import uuid # to generate unique image id"
   ]
  },
  {
   "cell_type": "markdown",
   "id": "d2884843",
   "metadata": {},
   "source": [
    "#### FOR LATER USE !! Face DETECTION.xml File"
   ]
  },
  {
   "cell_type": "code",
   "execution_count": 2,
   "id": "86174c69",
   "metadata": {},
   "outputs": [],
   "source": [
    "# Link to download : https://github.com/opencv/opencv/blob/master/data/haarcascades/haarcascade_frontalface_default.xml\n",
    "\n",
    "face_cascade = cv2.CascadeClassifier('C:/Users/Mohamed Amine/Desktop/Face Detection/haarcascade_frontalface_default.xml')"
   ]
  },
  {
   "cell_type": "markdown",
   "id": "35da59c9",
   "metadata": {},
   "source": [
    "### 1.2 Avoid out of MEMORY errors"
   ]
  },
  {
   "cell_type": "code",
   "execution_count": 2,
   "id": "b0172ff8",
   "metadata": {},
   "outputs": [],
   "source": [
    "# Avoid out of MEMO errors by setting GPU memory consumption growth\n",
    "gpus = tf.config.experimental.list_physical_devices('GPU')\n",
    "for gpu in gpus:\n",
    "    tf.config.experimental.set_memory_growth(gpu,True)"
   ]
  },
  {
   "cell_type": "code",
   "execution_count": 3,
   "id": "1cce6188",
   "metadata": {},
   "outputs": [
    {
     "name": "stdout",
     "output_type": "stream",
     "text": [
      "PhysicalDevice(name='/physical_device:GPU:0', device_type='GPU')\n"
     ]
    }
   ],
   "source": [
    "# List the GPUs present in the computer\n",
    "for gpu in gpus:\n",
    "    print(gpu)"
   ]
  },
  {
   "cell_type": "markdown",
   "id": "3c645b34",
   "metadata": {},
   "source": [
    "### 1.3 Create paths"
   ]
  },
  {
   "cell_type": "code",
   "execution_count": 4,
   "id": "cfaa3e5a",
   "metadata": {},
   "outputs": [],
   "source": [
    "#-------------------------------------------create paths-------------------------------------------\n",
    "# Setup paths\n",
    "POS_PATH = os.path.join('data','positive')\n",
    "NEG_PATH = os.path.join('data','negative')\n",
    "ANC_PATH = os.path.join('data','anchor')"
   ]
  },
  {
   "cell_type": "code",
   "execution_count": 5,
   "id": "e3ce9438",
   "metadata": {},
   "outputs": [],
   "source": [
    "#os.makedirs(POS_PATH)\n",
    "#os.makedirs(NEG_PATH)\n",
    "#os.makedirs(ANC_PATH)"
   ]
  },
  {
   "cell_type": "markdown",
   "id": "04607df3",
   "metadata": {},
   "source": [
    "# 2.Collect Pos/Anchors img "
   ]
  },
  {
   "cell_type": "markdown",
   "id": "c6b584ea",
   "metadata": {},
   "source": [
    "### 2.1 Untar Wild Dataset"
   ]
  },
  {
   "cell_type": "markdown",
   "id": "e3ec5eac",
   "metadata": {},
   "source": [
    "#### FOR LATER USE !! Download the negative Dataset"
   ]
  },
  {
   "cell_type": "code",
   "execution_count": 7,
   "id": "6431b2b2",
   "metadata": {},
   "outputs": [],
   "source": [
    "# Labelled Faces in the wild dataset\n",
    "# Link to Download: http://vis-www.cs.umass.edy/lfw/\n",
    "# uncompress -CMD (tar -xf \"lfw.tgz\")"
   ]
  },
  {
   "cell_type": "code",
   "execution_count": 8,
   "id": "f2d18ad9",
   "metadata": {},
   "outputs": [],
   "source": [
    "# Move lfw to data/negative repository\n",
    "#for directory in os.listdir('lfw'):\n",
    "#    for file in os.listdir(os.path.join('lfw', directory)):\n",
    "#        EX_PATH = os.path.join('lfw', directory, file)\n",
    "#        NEW_PATH = os.path.join(NEG_PATH, file)\n",
    "#        os.replace(EX_PATH, NEW_PATH)"
   ]
  },
  {
   "cell_type": "markdown",
   "id": "e0695694",
   "metadata": {},
   "source": [
    "### 2.2 Image Collection"
   ]
  },
  {
   "cell_type": "code",
   "execution_count": 8,
   "id": "365a9730",
   "metadata": {},
   "outputs": [],
   "source": [
    "#-------------------------------------------collecting images-------------------------------------------\n",
    "# Collect pos and anchor classes:\n",
    "cap = cv2.VideoCapture(0)\n",
    "while cap.isOpened():\n",
    "    ret, frame = cap.read()\n",
    "    # resize frame\n",
    "    frame = frame[120:120+250,200:200+250,:]\n",
    "\n",
    "    # collect anchor im\n",
    "    if cv2.waitKey(1) & 0xFF == ord('a'):\n",
    "        imgname = os.path.join(libjames, '{}.jpg'.format(uuid.uuid1()))\n",
    "        cv2.imwrite(imgname,frame)\n",
    "    \n",
    "    # collect positive im\n",
    "    if cv2.waitKey(1) & 0xFF == ord('p'):\n",
    "        imgname = os.path.join(POS_PATH, '{}.jpg'.format(uuid.uuid1()))\n",
    "        cv2.imwrite(imgname,frame)\n",
    "    \n",
    "    cv2.imshow('image collection', frame)\n",
    "    if cv2.waitKey(1) & 0xFF == ord('q'):\n",
    "        break\n",
    "cap.release()\n",
    "cv2.destroyAllWindows()"
   ]
  },
  {
   "cell_type": "markdown",
   "id": "a2fae302",
   "metadata": {},
   "source": [
    "# 3. Load & Preprocess Images"
   ]
  },
  {
   "cell_type": "markdown",
   "id": "179561aa",
   "metadata": {},
   "source": [
    "### 3.1 Get Images Dirs"
   ]
  },
  {
   "cell_type": "code",
   "execution_count": 6,
   "id": "583dcf82",
   "metadata": {},
   "outputs": [],
   "source": [
    "anchor = tf.data.Dataset.list_files(ANC_PATH+'\\*jpg').take(250)\n",
    "positive = tf.data.Dataset.list_files(POS_PATH+'\\*jpg').take(250)\n",
    "negative = tf.data.Dataset.list_files(NEG_PATH+'\\*jpg').take(250)"
   ]
  },
  {
   "cell_type": "code",
   "execution_count": 10,
   "id": "0d64ffda",
   "metadata": {},
   "outputs": [
    {
     "data": {
      "text/plain": [
       "b'data\\\\anchor\\\\67b6dcd3-b133-11ec-ab3b-80325378d058.jpg'"
      ]
     },
     "execution_count": 10,
     "metadata": {},
     "output_type": "execute_result"
    }
   ],
   "source": [
    "# Testing\n",
    "dir_test = anchor.as_numpy_iterator()\n",
    "dir_test.next()"
   ]
  },
  {
   "cell_type": "markdown",
   "id": "a09a4a3f",
   "metadata": {},
   "source": [
    "### 3.2 Preprocessing - Scale & Resize"
   ]
  },
  {
   "cell_type": "code",
   "execution_count": 12,
   "id": "095fd389",
   "metadata": {},
   "outputs": [],
   "source": [
    "def preprocess(file_path):\n",
    "    # Read in img from file path\n",
    "    byte_img = tf.io.read_file(file_path)\n",
    "    # Load in the img with Tensor\n",
    "    img = tf.io.decode_jpeg(byte_img)\n",
    "    # Prepross steps - resizig the img to be 100x100x3\n",
    "    img = tf.image.resize(img, (100,100))\n",
    "    # Scale img between 0 and 1\n",
    "    img = img / 225.0\n",
    "    return img"
   ]
  },
  {
   "cell_type": "markdown",
   "id": "37ef73e6",
   "metadata": {},
   "source": [
    "### 3.3 Create Labelled Dataset"
   ]
  },
  {
   "cell_type": "code",
   "execution_count": 13,
   "id": "67668b37",
   "metadata": {},
   "outputs": [],
   "source": [
    "# (anchor, positive) >> 1,1,1,1\n",
    "# (anchor, negative) >> 0,0,0,0"
   ]
  },
  {
   "cell_type": "code",
   "execution_count": 14,
   "id": "7caf462e",
   "metadata": {},
   "outputs": [],
   "source": [
    "positives = tf.data.Dataset.zip((anchor, positive, tf.data.Dataset.from_tensor_slices(tf.ones(len(anchor)))))\n",
    "negatives = tf.data.Dataset.zip((anchor, negative, tf.data.Dataset.from_tensor_slices(tf.zeros(len(anchor)))))\n",
    "data = positives.concatenate(negatives)"
   ]
  },
  {
   "cell_type": "code",
   "execution_count": 5,
   "id": "32393f6f",
   "metadata": {},
   "outputs": [
    {
     "name": "stdout",
     "output_type": "stream",
     "text": [
      "<ConcatenateDataset shapes: ((), (), ()), types: (tf.string, tf.string, tf.float32)>\n"
     ]
    }
   ],
   "source": []
  },
  {
   "cell_type": "code",
   "execution_count": 15,
   "id": "5d736a8c",
   "metadata": {},
   "outputs": [],
   "source": [
    "samples = data.as_numpy_iterator()"
   ]
  },
  {
   "cell_type": "code",
   "execution_count": 16,
   "id": "72a73d51",
   "metadata": {},
   "outputs": [],
   "source": [
    "example = samples.next()"
   ]
  },
  {
   "cell_type": "markdown",
   "id": "6ddb34e7",
   "metadata": {},
   "source": [
    "### 3.4 Build Train & Test Partition"
   ]
  },
  {
   "cell_type": "code",
   "execution_count": 17,
   "id": "7a3e16ab",
   "metadata": {},
   "outputs": [],
   "source": [
    "def preprocess_twin(input_img, validation_img, label):\n",
    "    return(preprocess(input_img), preprocess(validation_img), label)"
   ]
  },
  {
   "cell_type": "code",
   "execution_count": 18,
   "id": "4ca1705b",
   "metadata": {},
   "outputs": [],
   "source": [
    "# biuld dataloader pipline\n",
    "data = data.map(preprocess_twin)\n",
    "data = data.cache()\n",
    "data = data.shuffle(buffer_size=1024)"
   ]
  },
  {
   "cell_type": "code",
   "execution_count": 19,
   "id": "567ac647",
   "metadata": {},
   "outputs": [],
   "source": [
    "# Training partition\n",
    "train_data = data.take(round(len(data)*0.7))\n",
    "train_data = train_data.batch(16)\n",
    "train_data = train_data.prefetch(8)"
   ]
  },
  {
   "cell_type": "code",
   "execution_count": 20,
   "id": "9b42899a",
   "metadata": {},
   "outputs": [],
   "source": [
    "# Testing partition\n",
    "test_data = data.skip(round(len(data)*.7))\n",
    "test_data = test_data.take(round(len(data)*.3))\n",
    "test_data = test_data.batch(16)\n",
    "test_data = test_data.prefetch(8)"
   ]
  },
  {
   "cell_type": "markdown",
   "id": "514cbbf2",
   "metadata": {},
   "source": [
    "# 4. Model Engineering"
   ]
  },
  {
   "cell_type": "markdown",
   "id": "494b4974",
   "metadata": {},
   "source": [
    "### 4.1 Build Embedding Layer"
   ]
  },
  {
   "cell_type": "code",
   "execution_count": 21,
   "id": "49905492",
   "metadata": {},
   "outputs": [],
   "source": [
    "def make_embedding():\n",
    "    inp = Input(shape=(100,100,3), name='input_img')\n",
    "    # first block\n",
    "    c1 = Conv2D(64, (10,10), activation='relu')(inp)\n",
    "    m1 = MaxPooling2D(64, (2, 2), padding='same')(c1)\n",
    "    \n",
    "    # second block\n",
    "    c2 = Conv2D(128, (7,7), activation='relu')(m1)\n",
    "    m2 = MaxPooling2D(64 , (2,2), padding='same')(c2)\n",
    "    \n",
    "    # third block\n",
    "    c3 = Conv2D(128, (4,4), activation='relu')(m2)\n",
    "    m3 = MaxPooling2D(64, (2,2), padding='same')(c3)\n",
    "    \n",
    "    # final block\n",
    "    c4 = Conv2D(256, (4,4), activation='relu')(m3)\n",
    "    f1 = Flatten()(c4)\n",
    "    d1 = Dense(4096, activation='sigmoid')(f1)\n",
    "    \n",
    "    return Model(inputs=[inp], outputs=[d1] , name='embedding')"
   ]
  },
  {
   "cell_type": "code",
   "execution_count": 22,
   "id": "136a6c8f",
   "metadata": {},
   "outputs": [],
   "source": [
    "embedding = make_embedding()"
   ]
  },
  {
   "cell_type": "code",
   "execution_count": 22,
   "id": "443c8951",
   "metadata": {},
   "outputs": [
    {
     "name": "stdout",
     "output_type": "stream",
     "text": [
      "Model: \"embedding\"\n",
      "_________________________________________________________________\n",
      "Layer (type)                 Output Shape              Param #   \n",
      "=================================================================\n",
      "input_img (InputLayer)       [(None, 100, 100, 3)]     0         \n",
      "_________________________________________________________________\n",
      "conv2d (Conv2D)              (None, 91, 91, 64)        19264     \n",
      "_________________________________________________________________\n",
      "max_pooling2d (MaxPooling2D) (None, 46, 46, 64)        0         \n",
      "_________________________________________________________________\n",
      "conv2d_1 (Conv2D)            (None, 40, 40, 128)       401536    \n",
      "_________________________________________________________________\n",
      "max_pooling2d_1 (MaxPooling2 (None, 20, 20, 128)       0         \n",
      "_________________________________________________________________\n",
      "conv2d_2 (Conv2D)            (None, 17, 17, 128)       262272    \n",
      "_________________________________________________________________\n",
      "max_pooling2d_2 (MaxPooling2 (None, 9, 9, 128)         0         \n",
      "_________________________________________________________________\n",
      "conv2d_3 (Conv2D)            (None, 6, 6, 256)         524544    \n",
      "_________________________________________________________________\n",
      "flatten (Flatten)            (None, 9216)              0         \n",
      "_________________________________________________________________\n",
      "dense (Dense)                (None, 4096)              37752832  \n",
      "=================================================================\n",
      "Total params: 38,960,448\n",
      "Trainable params: 38,960,448\n",
      "Non-trainable params: 0\n",
      "_________________________________________________________________\n"
     ]
    }
   ],
   "source": [
    "embedding.summary()"
   ]
  },
  {
   "cell_type": "markdown",
   "id": "ca5cddf7",
   "metadata": {},
   "source": [
    "### 4.2 Build Distance Layer"
   ]
  },
  {
   "cell_type": "code",
   "execution_count": 23,
   "id": "07140c3f",
   "metadata": {},
   "outputs": [],
   "source": [
    "# Siamese L1 distance class\n",
    "class L1Dist(Layer):\n",
    "    # init methot\n",
    "    def __init__(self, **kwargs):\n",
    "        super().__init__()\n",
    "    \n",
    "    # similarity calculation\n",
    "    def call(self, input_embedding, validation_embedding):\n",
    "        return tf.math.abs(input_embedding - validation_embedding)"
   ]
  },
  {
   "cell_type": "code",
   "execution_count": 24,
   "id": "dd611ea8",
   "metadata": {},
   "outputs": [],
   "source": [
    "l1 = L1Dist()"
   ]
  },
  {
   "cell_type": "code",
   "execution_count": 25,
   "id": "602d1fa8",
   "metadata": {},
   "outputs": [
    {
     "data": {
      "text/plain": [
       "<__main__.L1Dist at 0x2104aa0c8b0>"
      ]
     },
     "execution_count": 25,
     "metadata": {},
     "output_type": "execute_result"
    }
   ],
   "source": [
    "l1"
   ]
  },
  {
   "cell_type": "markdown",
   "id": "8a34344b",
   "metadata": {},
   "source": [
    "### 4.3 Make Siamese Model"
   ]
  },
  {
   "cell_type": "code",
   "execution_count": 25,
   "id": "b50ab346",
   "metadata": {},
   "outputs": [],
   "source": [
    "input_img = Input(name='input_img', shape=(100,100,3))"
   ]
  },
  {
   "cell_type": "code",
   "execution_count": 26,
   "id": "4f0f3e54",
   "metadata": {},
   "outputs": [
    {
     "data": {
      "text/plain": [
       "<KerasTensor: shape=(None, 4096) dtype=float32 (created by layer 'embedding')>"
      ]
     },
     "execution_count": 26,
     "metadata": {},
     "output_type": "execute_result"
    }
   ],
   "source": [
    "embedding(input_img)"
   ]
  },
  {
   "cell_type": "code",
   "execution_count": 27,
   "id": "a51e613c",
   "metadata": {},
   "outputs": [],
   "source": [
    "def make_siamese_model():\n",
    "    \n",
    "    # handle inputs\n",
    "    input_img = Input(name='input_img', shape=(100,100,3))\n",
    "    validation_img = Input(name='validation_img', shape=(100,100,3))\n",
    "    \n",
    "    # Combine distance component\n",
    "    siamese_layer = L1Dist()\n",
    "    siamese_layer._name = 'distance'\n",
    "    distances = siamese_layer(embedding(input_img), embedding(validation_img))\n",
    "    \n",
    "    # classification layer\n",
    "    classifier = Dense(1, activation='sigmoid')(distances)\n",
    "    \n",
    "    return Model(inputs=[input_img, validation_img], outputs=classifier, name='SiameseNetwork')"
   ]
  },
  {
   "cell_type": "code",
   "execution_count": 28,
   "id": "1e9d1aa3",
   "metadata": {},
   "outputs": [],
   "source": [
    "siamese_model = make_siamese_model()"
   ]
  },
  {
   "cell_type": "code",
   "execution_count": 30,
   "id": "3dd8ecd0",
   "metadata": {},
   "outputs": [
    {
     "name": "stdout",
     "output_type": "stream",
     "text": [
      "Model: \"SiameseNetwork\"\n",
      "__________________________________________________________________________________________________\n",
      "Layer (type)                    Output Shape         Param #     Connected to                     \n",
      "==================================================================================================\n",
      "input_img (InputLayer)          [(None, 100, 100, 3) 0                                            \n",
      "__________________________________________________________________________________________________\n",
      "validation_img (InputLayer)     [(None, 100, 100, 3) 0                                            \n",
      "__________________________________________________________________________________________________\n",
      "embedding (Functional)          (None, 4096)         38960448    input_img[0][0]                  \n",
      "                                                                 validation_img[0][0]             \n",
      "__________________________________________________________________________________________________\n",
      "distance (L1Dist)               (None, 4096)         0           embedding[1][0]                  \n",
      "                                                                 embedding[2][0]                  \n",
      "__________________________________________________________________________________________________\n",
      "dense_1 (Dense)                 (None, 1)            4097        distance[0][0]                   \n",
      "==================================================================================================\n",
      "Total params: 38,964,545\n",
      "Trainable params: 38,964,545\n",
      "Non-trainable params: 0\n",
      "__________________________________________________________________________________________________\n"
     ]
    }
   ],
   "source": [
    "siamese_model.summary()"
   ]
  },
  {
   "cell_type": "markdown",
   "id": "3f8ba4ae",
   "metadata": {},
   "source": [
    "# 5. Training"
   ]
  },
  {
   "cell_type": "markdown",
   "id": "a3d5740b",
   "metadata": {},
   "source": [
    "### 5.1 Setup Loss & Optimizer"
   ]
  },
  {
   "cell_type": "code",
   "execution_count": 29,
   "id": "a53718df",
   "metadata": {},
   "outputs": [],
   "source": [
    "binary_cross_loss = tf.losses.BinaryCrossentropy()"
   ]
  },
  {
   "cell_type": "code",
   "execution_count": 30,
   "id": "f2dec6b1",
   "metadata": {},
   "outputs": [],
   "source": [
    "opt = tf.keras.optimizers.Adam(1e-4)"
   ]
  },
  {
   "cell_type": "markdown",
   "id": "de781d23",
   "metadata": {},
   "source": [
    "### 5.2 Establish Checkpoints"
   ]
  },
  {
   "cell_type": "code",
   "execution_count": 31,
   "id": "df69c500",
   "metadata": {},
   "outputs": [],
   "source": [
    "checkpoint_dir = './training_checkpoints'\n",
    "checkpoint_prefix = os.path.join(checkpoint_dir, 'ckpt')\n",
    "checkpoint = tf.train.Checkpoint(opt=opt, siamese_model=siamese_model)"
   ]
  },
  {
   "cell_type": "markdown",
   "id": "e36e5420",
   "metadata": {},
   "source": [
    "### 5.3 Build Train Step Function"
   ]
  },
  {
   "cell_type": "code",
   "execution_count": 32,
   "id": "8d363627",
   "metadata": {},
   "outputs": [],
   "source": [
    "@tf.function\n",
    "def train_step(batch):\n",
    "    # Record All of the operations\n",
    "    with tf.GradientTape() as tape: \n",
    "        # get anchor and pos/neg img\n",
    "        X = batch[:2]\n",
    "        # get label\n",
    "        y = batch[2]\n",
    "        \n",
    "        # Forward pass\n",
    "        yhat = siamese_model(X, training=True)\n",
    "        # calculate loss\n",
    "        loss = binary_cross_loss(y, yhat)\n",
    "    print(loss)\n",
    "    \n",
    "    # Calculate gradients\n",
    "    grad = tape.gradient(loss, siamese_model.trainable_variables)\n",
    "    # Calculate updated weights and apply to siamese model\n",
    "    opt.apply_gradients(zip(grad, siamese_model.trainable_variables))\n",
    "    \n",
    "    return loss"
   ]
  },
  {
   "cell_type": "markdown",
   "id": "9e258960",
   "metadata": {},
   "source": [
    "### 5.4 Build Training Loop"
   ]
  },
  {
   "cell_type": "code",
   "execution_count": 33,
   "id": "904d7ad6",
   "metadata": {},
   "outputs": [],
   "source": [
    "def train(data, EPOCHS):\n",
    "    # Loop through epochs\n",
    "    for epoch in range(1, EPOCHS+1):\n",
    "        print('\\n Epochs {}/{}'.format(epoch, EPOCHS))\n",
    "        progbar = tf.keras.utils.Progbar(len(data))\n",
    "        \n",
    "        # Loop through each batch\n",
    "        for idx, batch in enumerate(data):\n",
    "            # Run train steps:\n",
    "            train_step(batch)\n",
    "            progbar.update(idx+1)\n",
    "        \n",
    "        # Save checkpoints\n",
    "        if epoch % 10 == 0:\n",
    "            checkpoint.save(file_prefix=checkpoint_prefix)"
   ]
  },
  {
   "cell_type": "markdown",
   "id": "c8bb8b96",
   "metadata": {},
   "source": [
    "### 5.5 Train the model"
   ]
  },
  {
   "cell_type": "code",
   "execution_count": 34,
   "id": "4ec11a95",
   "metadata": {},
   "outputs": [],
   "source": [
    "EPOCHS = 50"
   ]
  },
  {
   "cell_type": "code",
   "execution_count": 35,
   "id": "5d1ae471",
   "metadata": {
    "scrolled": false
   },
   "outputs": [],
   "source": [
    "# Train\n",
    "#train(train_data, EPOCHS)"
   ]
  },
  {
   "cell_type": "markdown",
   "id": "ead66114",
   "metadata": {},
   "source": [
    "# 6. Evaluate Model"
   ]
  },
  {
   "cell_type": "markdown",
   "id": "48416abd",
   "metadata": {},
   "source": [
    "### 6.1 Import Metrics"
   ]
  },
  {
   "cell_type": "code",
   "execution_count": 36,
   "id": "e3cbbe74",
   "metadata": {},
   "outputs": [],
   "source": [
    "# import metric calculations\n",
    "from tensorflow.keras.metrics import Precision, Recall"
   ]
  },
  {
   "cell_type": "markdown",
   "id": "ccafaf04",
   "metadata": {},
   "source": [
    "### 6.2 Make Prediction"
   ]
  },
  {
   "cell_type": "code",
   "execution_count": 37,
   "id": "fd7abfd1",
   "metadata": {},
   "outputs": [],
   "source": [
    "# Get a batch of the test data\n",
    "test_input, test_val, y_true = test_data.as_numpy_iterator().next()"
   ]
  },
  {
   "cell_type": "code",
   "execution_count": 39,
   "id": "1fece669",
   "metadata": {},
   "outputs": [],
   "source": [
    "# predictions\n",
    "y_hat = siamese_model.predict([test_input, test_val])\n",
    "# y_hat"
   ]
  },
  {
   "cell_type": "code",
   "execution_count": 41,
   "id": "dcd890b5",
   "metadata": {},
   "outputs": [
    {
     "data": {
      "text/plain": [
       "[0, 0, 0, 0, 0, 0, 1, 1, 1, 1, 1, 0, 0, 1, 1, 0]"
      ]
     },
     "execution_count": 41,
     "metadata": {},
     "output_type": "execute_result"
    }
   ],
   "source": [
    "# Post processing the results\n",
    "[1 if prediction >0.5 else 0 for prediction in y_hat]"
   ]
  },
  {
   "cell_type": "code",
   "execution_count": 42,
   "id": "6a255d85",
   "metadata": {},
   "outputs": [
    {
     "data": {
      "text/plain": [
       "array([1., 1., 0., 0., 1., 0., 1., 0., 0., 1., 0., 1., 1., 0., 0., 1.],\n",
       "      dtype=float32)"
      ]
     },
     "execution_count": 42,
     "metadata": {},
     "output_type": "execute_result"
    }
   ],
   "source": [
    "y_true"
   ]
  },
  {
   "cell_type": "markdown",
   "id": "b97e8795",
   "metadata": {},
   "source": [
    "### 6.3 Calculate Metrics"
   ]
  },
  {
   "cell_type": "code",
   "execution_count": 40,
   "id": "0f10d52c",
   "metadata": {},
   "outputs": [
    {
     "data": {
      "text/plain": [
       "0.0"
      ]
     },
     "execution_count": 40,
     "metadata": {},
     "output_type": "execute_result"
    }
   ],
   "source": [
    "# Create a metric object\n",
    "m = Recall()\n",
    "# Calculate recall val\n",
    "m.update_state(y_true, y_hat)\n",
    "# Return recall result\n",
    "m.result().numpy()"
   ]
  },
  {
   "cell_type": "markdown",
   "id": "7f2e53ba",
   "metadata": {},
   "source": [
    "### 6.4 Viz"
   ]
  },
  {
   "cell_type": "code",
   "execution_count": 44,
   "id": "3fd8e6ec",
   "metadata": {},
   "outputs": [
    {
     "name": "stderr",
     "output_type": "stream",
     "text": [
      "Clipping input data to the valid range for imshow with RGB data ([0..1] for floats or [0..255] for integers).\n",
      "Clipping input data to the valid range for imshow with RGB data ([0..1] for floats or [0..255] for integers).\n"
     ]
    },
    {
     "data": {
      "image/png": "[encoded data removed]",
      "text/plain": [
       "<Figure size 720x576 with 2 Axes>"
      ]
     },
     "metadata": {
      "needs_background": "light"
     },
     "output_type": "display_data"
    }
   ],
   "source": [
    "plt.figure(figsize=(10,8))\n",
    "plt.subplot(1,2,1)\n",
    "plt.imshow(test_input[0])\n",
    "plt.subplot(1,2,2)\n",
    "plt.imshow(test_val[0])\n",
    "plt.show()"
   ]
  },
  {
   "cell_type": "markdown",
   "id": "77a533f8",
   "metadata": {},
   "source": [
    "# 7. Save Model"
   ]
  },
  {
   "cell_type": "code",
   "execution_count": 45,
   "id": "e7b155fe",
   "metadata": {},
   "outputs": [],
   "source": [
    "#siamese_model.save(\"siamesemodel.h5\")"
   ]
  },
  {
   "cell_type": "code",
   "execution_count": 41,
   "id": "b9eaee45",
   "metadata": {},
   "outputs": [
    {
     "name": "stdout",
     "output_type": "stream",
     "text": [
      "WARNING:tensorflow:No training configuration found in the save file, so the model was *not* compiled. Compile it manually.\n"
     ]
    }
   ],
   "source": [
    "# Reload model\n",
    "model = tf.keras.models.load_model('siamesemodel.h5', custom_objects={'L1Dist':L1Dist, 'BinaryCrossentropy':tf.losses.BinaryCrossentropy})"
   ]
  },
  {
   "cell_type": "code",
   "execution_count": 49,
   "id": "43b05a0a",
   "metadata": {},
   "outputs": [
    {
     "data": {
      "text/plain": [
       "array([[1.0000000e+00],\n",
       "       [9.9999976e-01],\n",
       "       [1.0935106e-08],\n",
       "       [8.5403472e-12],\n",
       "       [1.0000000e+00],\n",
       "       [2.8633669e-01],\n",
       "       [1.0000000e+00],\n",
       "       [3.5336088e-11],\n",
       "       [1.2022969e-09],\n",
       "       [1.0000000e+00],\n",
       "       [2.0106199e-10],\n",
       "       [9.9999988e-01],\n",
       "       [9.9999964e-01],\n",
       "       [1.5564591e-11],\n",
       "       [1.6240771e-06],\n",
       "       [9.9999988e-01]], dtype=float32)"
      ]
     },
     "execution_count": 49,
     "metadata": {},
     "output_type": "execute_result"
    }
   ],
   "source": [
    "# Make prediction with reloaded model\n",
    "model.predict([test_input, test_val])"
   ]
  },
  {
   "cell_type": "code",
   "execution_count": 50,
   "id": "b4d142a4",
   "metadata": {},
   "outputs": [
    {
     "name": "stdout",
     "output_type": "stream",
     "text": [
      "Model: \"SiameseNetwork\"\n",
      "__________________________________________________________________________________________________\n",
      "Layer (type)                    Output Shape         Param #     Connected to                     \n",
      "==================================================================================================\n",
      "input_img (InputLayer)          [(None, 100, 100, 3) 0                                            \n",
      "__________________________________________________________________________________________________\n",
      "validation_img (InputLayer)     [(None, 100, 100, 3) 0                                            \n",
      "__________________________________________________________________________________________________\n",
      "embedding (Functional)          (None, 4096)         38960448    input_img[0][0]                  \n",
      "                                                                 validation_img[0][0]             \n",
      "__________________________________________________________________________________________________\n",
      "l1_dist_3 (L1Dist)              (None, 4096)         0           embedding[0][0]                  \n",
      "                                                                 embedding[1][0]                  \n",
      "__________________________________________________________________________________________________\n",
      "dense_1 (Dense)                 (None, 1)            4097        l1_dist_3[0][0]                  \n",
      "==================================================================================================\n",
      "Total params: 38,964,545\n",
      "Trainable params: 38,964,545\n",
      "Non-trainable params: 0\n",
      "__________________________________________________________________________________________________\n"
     ]
    }
   ],
   "source": [
    "model.summary()"
   ]
  },
  {
   "cell_type": "markdown",
   "id": "c5a48471",
   "metadata": {},
   "source": [
    "# 8. Real Time Test"
   ]
  },
  {
   "cell_type": "markdown",
   "id": "4de41eb9",
   "metadata": {},
   "source": [
    "### 8.1 Verification"
   ]
  },
  {
   "cell_type": "code",
   "execution_count": 42,
   "id": "f5e2a240",
   "metadata": {},
   "outputs": [],
   "source": [
    "def verify(model, detection_threshold, verification_threshold):\n",
    "    # Build results array\n",
    "    results = []\n",
    "    for image in os.listdir(os.path.join('application_data', 'verification_images')):\n",
    "        input_img = preprocess(os.path.join('application_data', 'input_image', 'input_image.jpg'))\n",
    "        validation_img = preprocess(os.path.join('application_data', 'verification_images', image))\n",
    "        \n",
    "        # Make prediction\n",
    "        result = model.predict(list(np.expand_dims([input_img, validation_img], axis=1)))\n",
    "        results.append(result)\n",
    "        \n",
    "    # Detectin threshold\n",
    "    detection = np.sum(np.array(results) > detection_threshold)\n",
    "    # Verification threshold\n",
    "    verification = detection / len(os.listdir(os.path.join('application_data', 'verification_images')))\n",
    "    verified = verification > verification_threshold\n",
    "    \n",
    "    return results, verified"
   ]
  },
  {
   "cell_type": "markdown",
   "id": "c1f8496b",
   "metadata": {},
   "source": [
    "### 8.2 Real Time Verification"
   ]
  },
  {
   "cell_type": "code",
   "execution_count": 43,
   "id": "55f66386",
   "metadata": {},
   "outputs": [
    {
     "name": "stdout",
     "output_type": "stream",
     "text": [
      "True\n",
      "False\n"
     ]
    }
   ],
   "source": [
    "# with OpenCV\n",
    "cap = cv2.VideoCapture(0)\n",
    "while cap.isOpened():\n",
    "    ret, frame = cap.read()\n",
    "    # resize frame\n",
    "    frame = frame[120:120+250,200:200+250,:]\n",
    "    \n",
    "    # Verification trick\n",
    "    if cv2.waitKey(10) & 0xFF == ord('v'):\n",
    "        # Save input image to app_data/inp_img folder:\n",
    "        cv2.imwrite(os.path.join('application_data', 'input_image', 'input_image.jpg'), frame)\n",
    "        # Run verification\n",
    "        results, verified = verify(model, 0.9, 0.9)\n",
    "        print(verified)\n",
    "    \n",
    "    cv2.imshow('verification', frame)\n",
    "    if cv2.waitKey(10) & 0xFF == ord('q'):\n",
    "        break\n",
    "    \n",
    "cap.release()\n",
    "cv2.destroyAllWindows()"
   ]
  },
  {
   "cell_type": "code",
   "execution_count": 53,
   "id": "a19d594e",
   "metadata": {},
   "outputs": [
    {
     "data": {
      "text/plain": [
       "98"
      ]
     },
     "execution_count": 53,
     "metadata": {},
     "output_type": "execute_result"
    }
   ],
   "source": [
    "np.sum(np.squeeze(results) > 0.5)"
   ]
  },
  {
   "cell_type": "code",
   "execution_count": null,
   "id": "143387b2",
   "metadata": {},
   "outputs": [],
   "source": []
  }
 ],
 "metadata": {
  "kernelspec": {
   "display_name": "Python 3",
   "language": "python",
   "name": "python3"
  },
  "language_info": {
   "codemirror_mode": {
    "name": "ipython",
    "version": 3
   },
   "file_extension": ".py",
   "mimetype": "text/x-python",
   "name": "python",
   "nbconvert_exporter": "python",
   "pygments_lexer": "ipython3",
   "version": "3.8.8"
  }
 },
 "nbformat": 4,
 "nbformat_minor": 5
}
